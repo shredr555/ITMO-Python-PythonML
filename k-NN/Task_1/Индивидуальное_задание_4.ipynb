{
  "nbformat": 4,
  "nbformat_minor": 0,
  "metadata": {
    "colab": {
      "provenance": [],
      "collapsed_sections": []
    },
    "kernelspec": {
      "name": "python3",
      "display_name": "Python 3"
    },
    "language_info": {
      "name": "python"
    }
  },
  "cells": [
    {
      "cell_type": "code",
      "execution_count": 121,
      "metadata": {
        "colab": {
          "base_uri": "https://localhost:8080/",
          "height": 630
        },
        "id": "PHTHZmKM4cnZ",
        "outputId": "c6842567-7f4e-4690-8f5b-b13f6433531f"
      },
      "outputs": [
        {
          "output_type": "stream",
          "name": "stdout",
          "text": [
            "     X   Y  Class\n",
            "id               \n",
            "1   56  82      1\n",
            "2   96  36      0\n",
            "3   78  73      1\n",
            "4   69  19      1\n",
            "5   12  44      1\n",
            "6   77  32      0\n",
            "7   55  38      1\n",
            "8   86  95      1\n",
            "9   46  99      1\n",
            "10  15  83      0\n"
          ]
        },
        {
          "output_type": "display_data",
          "data": {
            "text/plain": [
              "<Figure size 432x288 with 1 Axes>"
            ],
            "image/png": "[encoded data removed]"
          },
          "metadata": {
            "needs_background": "light"
          }
        },
        {
          "output_type": "stream",
          "name": "stdout",
          "text": [
            "Евклидова метрика \n",
            " Расстояние до ближайшего объекта:  [[11.18  29.428 40.804]]\n",
            "Три ближайших соседа:  [[10  9  1]]\n",
            "Класс для нового объекта:  [1] \n",
            "\n",
            "Манхэттенское расстояние \n",
            " Расстояние до ближайшего объекта:  [[13. 34. 51.]]\n",
            "Три ближайших соседа:  [[10  9  1]]\n",
            "Класс для нового объекта:  [1]\n"
          ]
        }
      ],
      "source": [
        "from pandas import Series, DataFrame\n",
        "import pandas as pd\n",
        "from sklearn.neighbors import KNeighborsClassifier\n",
        "from sklearn.neighbors import NearestNeighbors\n",
        "import numpy as np\n",
        "%matplotlib inline\n",
        "import matplotlib.pyplot as plt\n",
        "\n",
        "data = pd.read_csv('k-NN_example.csv', delimiter=',', decimal='.', index_col = 0) #Открываем исходные данные\n",
        "print(data)\n",
        "\n",
        "plt.scatter(data.X, data.Y)\n",
        "plt.show()\n",
        "\n",
        "x = np.array(data.drop(columns=['Class'])) #Предикторы\n",
        "y = np.array(data.Class) #Ожидаемые значения\n",
        "\n",
        "neigh = NearestNeighbors(n_neighbors=3, p=2) \n",
        "neigh.fit(x)\n",
        "\n",
        "New_point = neigh.kneighbors([[17, 94]])\n",
        "print('Евклидова метрика \\n Расстояние до ближайшего объекта: ', np.around(New_point[0], decimals=3))\n",
        "print('Три ближайших соседа: ', New_point[1]+1) #Прибавляем единицу, так как в sk идентификаторы начинаются с 0\n",
        "\n",
        "model = KNeighborsClassifier(n_neighbors=3, p=2)\n",
        "model.fit(x, y)\n",
        "\n",
        "print('Класс для нового объекта: ', model.predict([[17, 94]]), '\\n')\n",
        "\n",
        "neigh = NearestNeighbors(n_neighbors=3, p=1) \n",
        "neigh.fit(x)\n",
        "New_point = neigh.kneighbors([[17, 94]])\n",
        "print('Манхэттенское расстояние \\n Расстояние до ближайшего объекта: ', np.around(New_point[0], decimals=3))\n",
        "print('Три ближайших соседа: ', New_point[1]+1)\n",
        "\n",
        "model = KNeighborsClassifier(n_neighbors=3, p=1)\n",
        "model.fit(x, y)\n",
        "\n",
        "print('Класс для нового объекта: ', model.predict([[17, 94]]))\n"
      ]
    }
  ]
}