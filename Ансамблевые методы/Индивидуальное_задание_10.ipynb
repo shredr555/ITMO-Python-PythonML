{
  "nbformat": 4,
  "nbformat_minor": 0,
  "metadata": {
    "colab": {
      "provenance": []
    },
    "kernelspec": {
      "name": "python3",
      "display_name": "Python 3"
    },
    "language_info": {
      "name": "python"
    }
  },
  "cells": [
    {
      "cell_type": "markdown",
      "source": [
        "Используйте версию библиотеки scikit-learn==0.23.0, также Вам потребуется библиотека opencv"
      ],
      "metadata": {
        "id": "ntgT-rj0oBIK"
      }
    },
    {
      "cell_type": "code",
      "execution_count": 1,
      "metadata": {
        "colab": {
          "base_uri": "https://localhost:8080/"
        },
        "id": "eq3l68cJrf6c",
        "outputId": "d7deae91-30ae-401e-b176-5b6356d5ba80"
      },
      "outputs": [
        {
          "output_type": "stream",
          "name": "stdout",
          "text": [
            "Looking in indexes: https://pypi.org/simple, https://us-python.pkg.dev/colab-wheels/public/simple/\n",
            "Requirement already satisfied: pip in /usr/local/lib/python3.8/dist-packages (21.1.3)\n",
            "Collecting pip\n",
            "  Downloading pip-22.3.1-py3-none-any.whl (2.1 MB)\n",
            "\u001b[K     |████████████████████████████████| 2.1 MB 29.0 MB/s \n",
            "\u001b[?25hInstalling collected packages: pip\n",
            "  Attempting uninstall: pip\n",
            "    Found existing installation: pip 21.1.3\n",
            "    Uninstalling pip-21.1.3:\n",
            "      Successfully uninstalled pip-21.1.3\n",
            "Successfully installed pip-22.3.1\n",
            "Looking in indexes: https://pypi.org/simple, https://us-python.pkg.dev/colab-wheels/public/simple/\n",
            "Requirement already satisfied: imutils in /usr/local/lib/python3.8/dist-packages (0.5.4)\n",
            "\u001b[33mWARNING: Running pip as the 'root' user can result in broken permissions and conflicting behaviour with the system package manager. It is recommended to use a virtual environment instead: https://pip.pypa.io/warnings/venv\u001b[0m\u001b[33m\n",
            "\u001b[0mLooking in indexes: https://pypi.org/simple, https://us-python.pkg.dev/colab-wheels/public/simple/\n",
            "Requirement already satisfied: opencv-python in /usr/local/lib/python3.8/dist-packages (4.6.0.66)\n",
            "Requirement already satisfied: numpy>=1.17.3 in /usr/local/lib/python3.8/dist-packages (from opencv-python) (1.21.6)\n",
            "\u001b[33mWARNING: Running pip as the 'root' user can result in broken permissions and conflicting behaviour with the system package manager. It is recommended to use a virtual environment instead: https://pip.pypa.io/warnings/venv\u001b[0m\u001b[33m\n",
            "\u001b[0mLooking in indexes: https://pypi.org/simple, https://us-python.pkg.dev/colab-wheels/public/simple/\n",
            "Collecting scikit-learn==0.23.0\n",
            "  Downloading scikit_learn-0.23.0-cp38-cp38-manylinux1_x86_64.whl (7.2 MB)\n",
            "\u001b[2K     \u001b[90m━━━━━━━━━━━━━━━━━━━━━━━━━━━━━━━━━━━━━━━━\u001b[0m \u001b[32m7.2/7.2 MB\u001b[0m \u001b[31m70.0 MB/s\u001b[0m eta \u001b[36m0:00:00\u001b[0m\n",
            "\u001b[?25hRequirement already satisfied: scipy>=0.19.1 in /usr/local/lib/python3.8/dist-packages (from scikit-learn==0.23.0) (1.7.3)\n",
            "Requirement already satisfied: numpy>=1.13.3 in /usr/local/lib/python3.8/dist-packages (from scikit-learn==0.23.0) (1.21.6)\n",
            "Requirement already satisfied: threadpoolctl>=2.0.0 in /usr/local/lib/python3.8/dist-packages (from scikit-learn==0.23.0) (3.1.0)\n",
            "Requirement already satisfied: joblib>=0.11 in /usr/local/lib/python3.8/dist-packages (from scikit-learn==0.23.0) (1.2.0)\n",
            "Installing collected packages: scikit-learn\n",
            "  Attempting uninstall: scikit-learn\n",
            "    Found existing installation: scikit-learn 1.0.2\n",
            "    Uninstalling scikit-learn-1.0.2:\n",
            "      Successfully uninstalled scikit-learn-1.0.2\n",
            "\u001b[31mERROR: pip's dependency resolver does not currently take into account all the packages that are installed. This behaviour is the source of the following dependency conflicts.\n",
            "yellowbrick 1.5 requires scikit-learn>=1.0.0, but you have scikit-learn 0.23.0 which is incompatible.\n",
            "imbalanced-learn 0.8.1 requires scikit-learn>=0.24, but you have scikit-learn 0.23.0 which is incompatible.\u001b[0m\u001b[31m\n",
            "\u001b[0mSuccessfully installed scikit-learn-0.23.0\n",
            "\u001b[33mWARNING: Running pip as the 'root' user can result in broken permissions and conflicting behaviour with the system package manager. It is recommended to use a virtual environment instead: https://pip.pypa.io/warnings/venv\u001b[0m\u001b[33m\n",
            "\u001b[0m"
          ]
        }
      ],
      "source": [
        "!pip install --upgrade pip\n",
        "!pip install imutils\n",
        "!pip install opencv-python\n",
        "!pip install --upgrade scikit-learn==0.23.0"
      ]
    },
    {
      "cell_type": "code",
      "source": [
        "import cv2\n",
        "import glob\n",
        "import pandas as pd\n",
        "import numpy as np\n",
        "import matplotlib.pyplot as plt\n",
        "from os import path\n",
        "from imutils import paths\n",
        "\n",
        "from sklearn.ensemble import BaggingClassifier\n",
        "from sklearn.tree import DecisionTreeClassifier\n",
        "from sklearn.svm import LinearSVC\n",
        "from sklearn.ensemble import RandomForestClassifier\n",
        "from sklearn.linear_model import LogisticRegression\n",
        "from sklearn.ensemble import StackingClassifier\n",
        "\n",
        "from sklearn.metrics import accuracy_score"
      ],
      "metadata": {
        "id": "Ysr9hXFCxGNZ"
      },
      "execution_count": 9,
      "outputs": []
    },
    {
      "cell_type": "markdown",
      "source": [
        "Гистограммы — характеристики распределения интенсивности изображений"
      ],
      "metadata": {
        "id": "jXrccUu-oDoe"
      }
    },
    {
      "cell_type": "code",
      "source": [
        "def extract_histogram(image, bins=(8, 8, 8)):\n",
        "    hist = cv2.calcHist([image], [0, 1, 2], None, bins, [0, 256, 0, 256, 0, 256])\n",
        "    cv2.normalize(hist, hist)\n",
        "    return hist.flatten()"
      ],
      "metadata": {
        "id": "M6u28CSDxbOE"
      },
      "execution_count": 3,
      "outputs": []
    },
    {
      "cell_type": "code",
      "source": [
        "imagePaths = sorted(list(paths.list_images('/content/drive/MyDrive/Colab Notebooks/train')))\n",
        "data = []\n",
        "\n",
        "for imagePath in imagePaths:\n",
        "  image_hist = list(extract_histogram(cv2.imread(imagePath)))\n",
        "  if \"/cat.\" in imagePath:\n",
        "    image_hist.append(1)\n",
        "  else:\n",
        "    image_hist.append(0)\n",
        "  data.append(np.array(image_hist))"
      ],
      "metadata": {
        "id": "P1Hz3FoJxhML"
      },
      "execution_count": 15,
      "outputs": []
    },
    {
      "cell_type": "code",
      "source": [
        "df = pd.DataFrame(data, columns=[str(i) for i in range(len(data[0]))])\n",
        "df.rename(columns={'512': 'y'}, inplace=True)\n",
        "print(df)\n",
        "X = df.loc[:, '0':'511']\n",
        "y = df.loc[:, 'y']"
      ],
      "metadata": {
        "colab": {
          "base_uri": "https://localhost:8080/"
        },
        "id": "beDnGVcPzsJZ",
        "outputId": "48505163-b12c-4438-defa-991ae75960b2"
      },
      "execution_count": 17,
      "outputs": [
        {
          "output_type": "stream",
          "name": "stdout",
          "text": [
            "            0         1         2         3         4    5    6    7  \\\n",
            "0    0.242645  0.073122  0.000232  0.000000  0.000000  0.0  0.0  0.0   \n",
            "1    0.418818  0.126781  0.000085  0.000000  0.000000  0.0  0.0  0.0   \n",
            "2    0.356737  0.184168  0.020616  0.001619  0.000717  0.0  0.0  0.0   \n",
            "3    0.001266  0.019995  0.011941  0.001583  0.000158  0.0  0.0  0.0   \n",
            "4    0.000000  0.000105  0.000000  0.000000  0.000000  0.0  0.0  0.0   \n",
            "..        ...       ...       ...       ...       ...  ...  ...  ...   \n",
            "995  0.134753  0.010071  0.000000  0.000000  0.000000  0.0  0.0  0.0   \n",
            "996  0.122335  0.165961  0.041414  0.016499  0.000102  0.0  0.0  0.0   \n",
            "997  0.081336  0.033835  0.000000  0.000000  0.000000  0.0  0.0  0.0   \n",
            "998  0.598071  0.090467  0.006297  0.000019  0.000000  0.0  0.0  0.0   \n",
            "999  0.501765  0.108061  0.017979  0.003817  0.000026  0.0  0.0  0.0   \n",
            "\n",
            "            8         9  ...       503  504       505     506      507  \\\n",
            "0    0.000000  0.087363  ...  0.000000  0.0  0.000000  0.0000  0.00000   \n",
            "1    0.005085  0.076441  ...  0.000000  0.0  0.000000  0.0000  0.00000   \n",
            "2    0.000041  0.027440  ...  0.000000  0.0  0.000000  0.0000  0.00000   \n",
            "3    0.000000  0.002145  ...  0.002233  0.0  0.000000  0.0000  0.00000   \n",
            "4    0.000000  0.000366  ...  0.000000  0.0  0.002719  0.7748  0.34338   \n",
            "..        ...       ...  ...       ...  ...       ...     ...      ...   \n",
            "995  0.004053  0.041960  ...  0.005025  0.0  0.000000  0.0000  0.00000   \n",
            "996  0.000991  0.147656  ...  0.000000  0.0  0.000000  0.0000  0.00000   \n",
            "997  0.000000  0.006635  ...  0.002249  0.0  0.000000  0.0000  0.00000   \n",
            "998  0.000019  0.037595  ...  0.000190  0.0  0.000000  0.0000  0.00000   \n",
            "999  0.004291  0.051911  ...  0.000369  0.0  0.000000  0.0000  0.00000   \n",
            "\n",
            "          508       509       510       511    y  \n",
            "0    0.000000  0.000000  0.000000  0.000000  1.0  \n",
            "1    0.000000  0.000000  0.000042  0.000000  1.0  \n",
            "2    0.000000  0.000000  0.000000  0.007726  1.0  \n",
            "3    0.000000  0.000000  0.023354  0.497077  1.0  \n",
            "4    0.038583  0.114442  0.126833  0.008469  1.0  \n",
            "..        ...       ...       ...       ...  ...  \n",
            "995  0.000000  0.000000  0.012636  0.010754  0.0  \n",
            "996  0.000000  0.000000  0.000000  0.000000  0.0  \n",
            "997  0.000000  0.000000  0.004499  0.228866  0.0  \n",
            "998  0.000000  0.000000  0.000000  0.010350  0.0  \n",
            "999  0.000000  0.000000  0.000026  0.001343  0.0  \n",
            "\n",
            "[1000 rows x 513 columns]\n"
          ]
        }
      ]
    },
    {
      "cell_type": "code",
      "source": [
        "linear_svc = LinearSVC(C = 1.09, random_state = 462)\n",
        "bagging_clf = BaggingClassifier(base_estimator=DecisionTreeClassifier(criterion = 'entropy', min_samples_leaf = 10, max_leaf_nodes = 20, random_state = 462), n_estimators = 19, random_state = 462)\n",
        "random_forest = RandomForestClassifier(n_estimators = 19, criterion = 'entropy', min_samples_leaf = 10, max_leaf_nodes = 20, random_state = 462)\n",
        "\n",
        "final_estimator = LogisticRegression(solver='lbfgs', random_state = 462)\n",
        "\n",
        "estimators = [('linear_svc', linear_svc),\n",
        "              ('bagging_clf', bagging_clf),\n",
        "              ('random_forest', random_forest)]\n",
        "clf = StackingClassifier(estimators=estimators, final_estimator=final_estimator, cv=2)\n",
        "clf.fit(X, y)\n",
        "\n",
        "y_pred = clf.predict(X)\n",
        "print('доля правильной классификации', np.round(accuracy_score(y, y_pred), 2))"
      ],
      "metadata": {
        "id": "jqeOcVnE1OXS",
        "colab": {
          "base_uri": "https://localhost:8080/"
        },
        "outputId": "9363e025-ffec-4ebe-b606-ba8529c1eeec"
      },
      "execution_count": 18,
      "outputs": [
        {
          "output_type": "stream",
          "name": "stdout",
          "text": [
            "доля правильной классификации 0.84\n"
          ]
        }
      ]
    },
    {
      "cell_type": "code",
      "source": [
        "imageTests = sorted(list(paths.list_images('/content/drive/MyDrive/Colab Notebooks/test')))\n",
        "\n",
        "for imageTest in imageTests:\n",
        "  if 'dog.1023.jpg' in imageTest:\n",
        "    dog_1023 = extract_histogram(cv2.imread(imageTest))\n",
        "  if 'dog.1029.jpg' in imageTest:\n",
        "    dog_1029 = extract_histogram(cv2.imread(imageTest))\n",
        "  if 'dog.1006.jpg' in imageTest:\n",
        "    dog_1006 = extract_histogram(cv2.imread(imageTest))\n",
        "  if 'cat.1004.jpg' in imageTest:\n",
        "    cat_1004 = extract_histogram(cv2.imread(imageTest))\n",
        "    \n",
        "print(np.round(*clf.predict_proba(dog_1023.reshape(1, -1)), 3)[1])\n",
        "print(np.round(*clf.predict_proba(dog_1029.reshape(1, -1)), 3)[1])\n",
        "print(np.round(*clf.predict_proba(dog_1006.reshape(1, -1)), 3)[1])\n",
        "print(np.round(*clf.predict_proba(cat_1004.reshape(1, -1)), 3)[1])"
      ],
      "metadata": {
        "colab": {
          "base_uri": "https://localhost:8080/"
        },
        "id": "61CIUPxdMJdJ",
        "outputId": "083f59b1-7ee2-498c-9b69-083df2ce312f"
      },
      "execution_count": 19,
      "outputs": [
        {
          "output_type": "stream",
          "name": "stdout",
          "text": [
            "0.351\n",
            "0.272\n",
            "0.376\n",
            "0.416\n"
          ]
        }
      ]
    }
  ]
}