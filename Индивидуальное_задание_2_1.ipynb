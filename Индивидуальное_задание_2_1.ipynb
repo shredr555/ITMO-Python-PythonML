{
  "nbformat": 4,
  "nbformat_minor": 0,
  "metadata": {
    "colab": {
      "provenance": [],
      "collapsed_sections": [],
      "authorship_tag": "ABX9TyNGaDpBCBX3zkOfRAopbr2S",
      "include_colab_link": true
    },
    "kernelspec": {
      "name": "python3",
      "display_name": "Python 3"
    },
    "language_info": {
      "name": "python"
    }
  },
  "cells": [
    {
      "cell_type": "markdown",
      "metadata": {
        "id": "view-in-github",
        "colab_type": "text"
      },
      "source": [
        "<a href=\"https://colab.research.google.com/github/shredr555/ITMO-Python-PythonML/blob/main/%D0%98%D0%BD%D0%B4%D0%B8%D0%B2%D0%B8%D0%B4%D1%83%D0%B0%D0%BB%D1%8C%D0%BD%D0%BE%D0%B5_%D0%B7%D0%B0%D0%B4%D0%B0%D0%BD%D0%B8%D0%B5_2_1.ipynb\" target=\"_parent\"><img src=\"https://colab.research.google.com/assets/colab-badge.svg\" alt=\"Open In Colab\"/></a>"
      ]
    },
    {
      "cell_type": "code",
      "execution_count": 55,
      "metadata": {
        "colab": {
          "base_uri": "https://localhost:8080/",
          "height": 439
        },
        "id": "PHTHZmKM4cnZ",
        "outputId": "926e78fe-2806-400a-da2d-eaee5f180f0a"
      },
      "outputs": [
        {
          "output_type": "stream",
          "name": "stdout",
          "text": [
            "Векторы ГК:  [[-0.33362746  0.20677213 -0.33888428  0.03230803 -0.54297103  0.48990391\n",
            "  -0.33368793 -0.0844691  -0.27224926  0.05124392]\n",
            " [ 0.3676185  -0.00427814 -0.45141643 -0.27335162 -0.16349925 -0.28101189\n",
            "   0.20414879 -0.64298984 -0.15845423 -0.02050227]]\n",
            "Объясненная дисперсия:  [0.51577899 0.36427421]\n",
            "Общая объясненная дисперсия:  0.8800531973542666\n",
            "Координата первого объекта относительно первой главной компоненты:  -35.169\n",
            "Координата первого объекта относительно второй главной компоненты:  33.805\n",
            "Общая объясненная дисперсия:  0.88\n"
          ]
        },
        {
          "output_type": "execute_result",
          "data": {
            "text/plain": [
              "<matplotlib.collections.PathCollection at 0x7f3f6d95b8d0>"
            ]
          },
          "metadata": {},
          "execution_count": 55
        },
        {
          "output_type": "display_data",
          "data": {
            "text/plain": [
              "<Figure size 432x288 with 1 Axes>"
            ],
            "image/png": "[encoded data removed]"
          },
          "metadata": {
            "needs_background": "light"
          }
        }
      ],
      "source": [
        "from pandas import Series, DataFrame\n",
        "import pandas as pd\n",
        "from sklearn.decomposition import PCA\n",
        "from sklearn import preprocessing\n",
        "import numpy as np\n",
        "%matplotlib inline\n",
        "import matplotlib.pyplot as plt\n",
        "\n",
        "syntax_data = pd.read_csv('34_16.csv', delimiter=',', decimal='.', header = None) #Открываем исходные данные\n",
        "\n",
        "syntax_data -= syntax_data.mean(axis=0) #Центрируем данные\n",
        "\n",
        "pca = PCA(n_components=2, svd_solver='full')\n",
        "X = pca.fit(syntax_data)\n",
        "\n",
        "print('Векторы ГК: ', X.components_)\n",
        "print('Объясненная дисперсия: ', X.explained_variance_ratio_)\n",
        "print('Общая объясненная дисперсия: ', sum(X.explained_variance_ratio_))\n",
        "\n",
        "array_f = np.array(syntax_data) #Переводим данные в матричный вид\n",
        "\n",
        "z1 = np.dot(array_f, X.components_[0]) #Новые координаты объектов относительно первой ГК\n",
        "z2 = np.dot(array_f, X.components_[1]) #Новые координаты объектов относительно второй ГК\n",
        "\n",
        "print('Координата первого объекта относительно первой главной компоненты: ', round(z1[0], 3))\n",
        "print('Координата первого объекта относительно второй главной компоненты: ', round(z2[0], 3))\n",
        "print('Общая объясненная дисперсия: ', round(sum(X.explained_variance_ratio_), 3))\n",
        "\n",
        "plt.scatter(z1, z2)"
      ]
    }
  ]
}