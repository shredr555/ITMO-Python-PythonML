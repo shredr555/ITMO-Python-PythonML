{
  "nbformat": 4,
  "nbformat_minor": 0,
  "metadata": {
    "colab": {
      "provenance": [],
      "collapsed_sections": [],
      "authorship_tag": "ABX9TyOmZV2dqNPouJMWR9yqOEd4",
      "include_colab_link": true
    },
    "kernelspec": {
      "name": "python3",
      "display_name": "Python 3"
    },
    "language_info": {
      "name": "python"
    }
  },
  "cells": [
    {
      "cell_type": "markdown",
      "metadata": {
        "id": "view-in-github",
        "colab_type": "text"
      },
      "source": [
        "<a href=\"https://colab.research.google.com/github/shredr555/ITMO-Python-PythonML/blob/main/%D0%98%D0%BD%D0%B4%D0%B8%D0%B2%D0%B8%D0%B4%D1%83%D0%B0%D0%BB%D1%8C%D0%BD%D0%BE%D0%B5_%D0%B7%D0%B0%D0%B4%D0%B0%D0%BD%D0%B8%D0%B5_3_1.ipynb\" target=\"_parent\"><img src=\"https://colab.research.google.com/assets/colab-badge.svg\" alt=\"Open In Colab\"/></a>"
      ]
    },
    {
      "cell_type": "code",
      "execution_count": 28,
      "metadata": {
        "colab": {
          "base_uri": "https://localhost:8080/"
        },
        "id": "PHTHZmKM4cnZ",
        "outputId": "db596342-68f0-4f7c-ecfd-08f2407b0a22"
      },
      "outputs": [
        {
          "output_type": "stream",
          "name": "stdout",
          "text": [
            "   id   X   Y\n",
            "0   1  24  37\n",
            "1   2   2   7\n",
            "2   3   3   3\n",
            "3   4  21  68\n",
            "4   5  19  58\n",
            "5   6  17  48\n",
            "6   7   8  22\n",
            "7   8  16  49\n",
            "8   9  15  44\n",
            "9  10   4  13 \n",
            "\n",
            "X_avg =  [12.9] \n",
            "\n",
            "y_avg =  34.9 \n",
            "\n",
            "ϴ0 =  2.993 \n",
            "\n",
            "ϴ1 =  [2.47339227] \n",
            "\n",
            "r sqrt =  0.779\n"
          ]
        }
      ],
      "source": [
        "from pandas import Series, DataFrame\n",
        "import pandas as pd\n",
        "from sklearn.decomposition import PCA\n",
        "from sklearn import preprocessing\n",
        "from sklearn.linear_model import LinearRegression\n",
        "import numpy as np\n",
        "%matplotlib inline\n",
        "import matplotlib.pyplot as plt\n",
        "\n",
        "data = pd.read_csv('example.csv', delimiter=',', decimal='.') #Открываем исходные данные\n",
        "\n",
        "print(data, '\\n')\n",
        "\n",
        "X = np.array(data.loc[:, 'X']).reshape((-1, 1))\n",
        "y = np.array(data.loc[:, 'Y'])\n",
        "\n",
        "X_avg = sum(X)/len(X)\n",
        "print('X_avg = ', X_avg, '\\n')\n",
        "y_avg = sum(y)/len(y)\n",
        "print('y_avg = ', y_avg, '\\n')\n",
        "\n",
        "model = LinearRegression().fit(X, y)\n",
        "\n",
        "print('ϴ0 = ', round(model.intercept_, 3), '\\n')\n",
        "print('ϴ1 = ', model.coef_, '\\n')\n",
        "\n",
        "r_sq = model.score(X, y)\n",
        "print('r sqrt = ', round(r_sq, 3))"
      ]
    }
  ]
}