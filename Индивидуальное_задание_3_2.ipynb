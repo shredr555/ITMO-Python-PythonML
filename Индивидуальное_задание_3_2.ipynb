{
  "nbformat": 4,
  "nbformat_minor": 0,
  "metadata": {
    "colab": {
      "provenance": [],
      "collapsed_sections": [],
      "authorship_tag": "ABX9TyMGcuUdgUxkctXXQi+iAg+f",
      "include_colab_link": true
    },
    "kernelspec": {
      "name": "python3",
      "display_name": "Python 3"
    },
    "language_info": {
      "name": "python"
    }
  },
  "cells": [
    {
      "cell_type": "markdown",
      "metadata": {
        "id": "view-in-github",
        "colab_type": "text"
      },
      "source": [
        "<a href=\"https://colab.research.google.com/github/shredr555/ITMO-Python-PythonML/blob/main/%D0%98%D0%BD%D0%B4%D0%B8%D0%B2%D0%B8%D0%B4%D1%83%D0%B0%D0%BB%D1%8C%D0%BD%D0%BE%D0%B5_%D0%B7%D0%B0%D0%B4%D0%B0%D0%BD%D0%B8%D0%B5_3_2.ipynb\" target=\"_parent\"><img src=\"https://colab.research.google.com/assets/colab-badge.svg\" alt=\"Open In Colab\"/></a>"
      ]
    },
    {
      "cell_type": "code",
      "execution_count": 47,
      "metadata": {
        "colab": {
          "base_uri": "https://localhost:8080/"
        },
        "id": "PHTHZmKM4cnZ",
        "outputId": "6eefba9a-2334-44e1-db3c-189911e32189"
      },
      "outputs": [
        {
          "output_type": "stream",
          "name": "stdout",
          "text": [
            "Chiclets predict:  [42.86644948]\n",
            "Fruit_Chews predict:  [46.30862479]\n",
            "[0, 0, 1, 0, 1, 0, 1, 0, 1, 0.607, 0.254] predict:  [30.72196705]\n"
          ]
        },
        {
          "output_type": "stream",
          "name": "stderr",
          "text": [
            "/usr/local/lib/python3.7/dist-packages/sklearn/base.py:444: UserWarning: X has feature names, but LinearRegression was fitted without feature names\n",
            "  f\"X has feature names, but {self.__class__.__name__} was fitted without\"\n",
            "/usr/local/lib/python3.7/dist-packages/sklearn/base.py:444: UserWarning: X has feature names, but LinearRegression was fitted without feature names\n",
            "  f\"X has feature names, but {self.__class__.__name__} was fitted without\"\n"
          ]
        }
      ],
      "source": [
        "from pandas import Series, DataFrame\n",
        "import pandas as pd\n",
        "from sklearn.decomposition import PCA\n",
        "from sklearn import preprocessing\n",
        "from sklearn.linear_model import LinearRegression\n",
        "import numpy as np\n",
        "%matplotlib inline\n",
        "import matplotlib.pyplot as plt\n",
        "\n",
        "data_learn = pd.read_csv('candy-data.csv', delimiter=',', decimal='.') #Открываем исходные данные\n",
        "\n",
        "data_learn = data_learn.set_index('competitorname') #Меняем иднекс в фрейме\n",
        "data_test = data_learn.loc[['Chiclets', 'Fruit Chews']] #Копируем строки, для тестирования в будущем\n",
        "data_test = data_test.drop(columns=['winpercent', 'Y']) #Убираем ненужные столбцы\n",
        "data_learn = data_learn.drop(['Chiclets', 'Fruit Chews'], axis=0) #Убираем из фрейма строки, по заданию\n",
        "\n",
        "X = np.array(data_learn.loc[:, 'chocolate' : 'pricepercent'])\n",
        "y = np.array(data_learn.loc[:, 'winpercent'])\n",
        "\n",
        "model = LinearRegression().fit(X, y)\n",
        "\n",
        "Chiclets = data_test.loc[['Chiclets']]\n",
        "Fruit_Chews = data_test.loc[['Fruit Chews']]\n",
        "new_test = np.array([0, 0, 1, 0, 1, 0, 1, 0, 1, 0.607, 0.254]).reshape(1, -1)\n",
        "\n",
        "print('Chiclets predict: ', model.predict(Chiclets))\n",
        "print('Fruit_Chews predict: ', model.predict(Fruit_Chews))\n",
        "print('[0, 0, 1, 0, 1, 0, 1, 0, 1, 0.607, 0.254] predict: ', model.predict(new_test))\n"
      ]
    }
  ]
}