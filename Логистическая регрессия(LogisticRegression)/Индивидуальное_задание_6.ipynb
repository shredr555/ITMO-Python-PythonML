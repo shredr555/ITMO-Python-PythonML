{
  "nbformat": 4,
  "nbformat_minor": 0,
  "metadata": {
    "colab": {
      "provenance": [],
      "collapsed_sections": []
    },
    "kernelspec": {
      "name": "python3",
      "display_name": "Python 3"
    },
    "language_info": {
      "name": "python"
    }
  },
  "cells": [
    {
      "cell_type": "code",
      "execution_count": 14,
      "metadata": {
        "colab": {
          "base_uri": "https://localhost:8080/"
        },
        "id": "PHTHZmKM4cnZ",
        "outputId": "6b6d82f3-fa34-4f03-e8e1-848493d65ce4"
      },
      "outputs": [
        {
          "output_type": "stream",
          "name": "stdout",
          "text": [
            "Порядок классов:  [0 1]\n",
            "1.Предикт для Warheads:  [[0.844 0.156]]\n",
            "2.Предикт для Sugar Babies:  [[0.708 0.292]]\n",
            "Матрица ошибок: \n",
            " [[7 3]\n",
            " [2 3]]\n",
            "TP:  3\n",
            "FP:  3\n",
            "TN:  7\n",
            "FN:  2\n",
            "TPR:  0.6\n",
            "FPR:  0.3\n",
            "Precision:  0.5\n",
            "AUC:  0.86\n"
          ]
        }
      ],
      "source": [
        "from pandas import Series, DataFrame\n",
        "import pandas as pd\n",
        "from sklearn.linear_model import LogisticRegression\n",
        "from sklearn.metrics import confusion_matrix\n",
        "from sklearn.metrics import roc_auc_score\n",
        "import numpy as np\n",
        "\n",
        "data_learn = pd.read_csv('candy-data (1).csv', delimiter=',', decimal='.') #Открываем исходные данные\n",
        "data_learn = data_learn.set_index('competitorname') #Меняем иднекс в фрейме\n",
        "data_learn = data_learn.drop(['Almond Joy', 'Dum Dums', 'Mr Good Bar'])\n",
        "\n",
        "X_learn = np.array(data_learn.loc[:, 'chocolate' : 'pricepercent']) \n",
        "y_learn = np.array(data_learn.loc[:, 'Y'])\n",
        "\n",
        "data_test = pd.read_csv('candy-test.csv', delimiter=',', decimal='.') #Открываем исходные данные\n",
        "data_test = data_test.set_index('competitorname') #Меняем иднекс в фрейме\n",
        "X_test = np.array(data_test.loc[:, 'chocolate' : 'pricepercent']) \n",
        "y_test = np.array(data_test.loc[:, 'Y'])\n",
        "data_test = data_test.drop(columns = ['Y'])\n",
        "\n",
        "task_1 = np.array(data_test.loc[['Warheads']])\n",
        "task_2 = np.array(data_test.loc[['Sugar Babies']])\n",
        "\n",
        "clf = LogisticRegression(random_state = 2019, solver = 'lbfgs').fit(X_learn, y_learn)\n",
        "\n",
        "print('Порядок классов: ', clf.classes_)\n",
        "print('1.Предикт для Warheads: ', np.around(clf.predict_proba(task_1), decimals=3))\n",
        "print('2.Предикт для Sugar Babies: ', np.around(clf.predict_proba(task_2), decimals=3))\n",
        "\n",
        "confusion_matrix = confusion_matrix(y_test, clf.predict(X_test))\n",
        "print('Матрица ошибок: \\n', confusion_matrix)\n",
        "\n",
        "TP = confusion_matrix[1][1]\n",
        "FP = confusion_matrix[0][1]\n",
        "FN = confusion_matrix[1][0]\n",
        "TN = confusion_matrix[0][0]\n",
        "print('TP: ', TP)\n",
        "print('FP: ', FP)\n",
        "print('TN: ', TN)\n",
        "print('FN: ', FN)\n",
        "print('TPR: ', TP/(TP + FN))\n",
        "print('FPR: ', FP/(FP + TN))\n",
        "print('Precision: ', TP/(TP + FP))\n",
        "print('AUC: ', roc_auc_score(y_test, clf.predict_proba(X_test)[:, 1]))"
      ]
    }
  ]
}