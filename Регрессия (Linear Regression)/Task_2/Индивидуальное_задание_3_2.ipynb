{
  "nbformat": 4,
  "nbformat_minor": 0,
  "metadata": {
    "colab": {
      "provenance": [],
      "collapsed_sections": []
    },
    "kernelspec": {
      "name": "python3",
      "display_name": "Python 3"
    },
    "language_info": {
      "name": "python"
    }
  },
  "cells": [
    {
      "cell_type": "markdown",
      "source": [
        "# Регрессия\n",
        "\n",
        "В прилагаемом файле представлены данные, собранные путем голосования за самые лучшие (или, по крайней мере, самые популярные) конфеты Хэллоуина. Обучите модель линейной многомерной регрессии. В качестве предикторов выступают поля: chocolate, fruity, caramel, peanutyalmondy, nougat, crispedricewafer, hard, bar, pluribus, sugarpercent, pricepercent, отклик — winpercent.\n",
        "\n",
        "В качестве тренировочного набора данных используйте данные из файла, за иключением следующих конфет: Chiclets, Fruit Chews. Обучите модель.\n",
        "\n",
        "*   Введите предсказанное значение winpercent для конфеты Chiclets:\n",
        "*   Введите предсказанное значение winpercent для конфеты Fruit Chews:\n",
        "*   Введите предсказанное значение winpercent для [0, 0, 1, 0, 1, 0, 1, 0, 1, 0.607, 0.254]\n",
        "\n"
      ],
      "metadata": {
        "id": "S7f94-aY1sFr"
      }
    },
    {
      "cell_type": "code",
      "execution_count": null,
      "metadata": {
        "colab": {
          "base_uri": "https://localhost:8080/"
        },
        "id": "PHTHZmKM4cnZ",
        "outputId": "6eefba9a-2334-44e1-db3c-189911e32189"
      },
      "outputs": [
        {
          "output_type": "stream",
          "name": "stdout",
          "text": [
            "Chiclets predict:  [42.86644948]\n",
            "Fruit_Chews predict:  [46.30862479]\n",
            "[0, 0, 1, 0, 1, 0, 1, 0, 1, 0.607, 0.254] predict:  [30.72196705]\n"
          ]
        },
        {
          "output_type": "stream",
          "name": "stderr",
          "text": [
            "/usr/local/lib/python3.7/dist-packages/sklearn/base.py:444: UserWarning: X has feature names, but LinearRegression was fitted without feature names\n",
            "  f\"X has feature names, but {self.__class__.__name__} was fitted without\"\n",
            "/usr/local/lib/python3.7/dist-packages/sklearn/base.py:444: UserWarning: X has feature names, but LinearRegression was fitted without feature names\n",
            "  f\"X has feature names, but {self.__class__.__name__} was fitted without\"\n"
          ]
        }
      ],
      "source": [
        "from pandas import Series, DataFrame\n",
        "import pandas as pd\n",
        "from sklearn.linear_model import LinearRegression\n",
        "import numpy as np\n",
        "\n",
        "data_learn = pd.read_csv('candy-data.csv', delimiter=',', decimal='.') #Открываем исходные данные\n",
        "\n",
        "data_learn = data_learn.set_index('competitorname') #Меняем иднекс в фрейме\n",
        "data_test = data_learn.loc[['Chiclets', 'Fruit Chews']] #Копируем строки, для тестирования в будущем\n",
        "data_test = data_test.drop(columns=['winpercent', 'Y']) #Убираем ненужные столбцы\n",
        "data_learn = data_learn.drop(['Chiclets', 'Fruit Chews'], axis=0) #Убираем из фрейма строки, по заданию\n",
        "\n",
        "X = np.array(data_learn.loc[:, 'chocolate' : 'pricepercent']) \n",
        "y = np.array(data_learn.loc[:, 'winpercent'])\n",
        "\n",
        "model = LinearRegression().fit(X, y) #Обучаем модель\n",
        "\n",
        "Chiclets = data_test.loc[['Chiclets']]\n",
        "Fruit_Chews = data_test.loc[['Fruit Chews']]\n",
        "new_test = np.array([0, 0, 1, 0, 1, 0, 1, 0, 1, 0.607, 0.254]).reshape(1, -1)\n",
        "\n",
        "print('Chiclets predict: ', model.predict(Chiclets))\n",
        "print('Fruit_Chews predict: ', model.predict(Fruit_Chews))\n",
        "print('[0, 0, 1, 0, 1, 0, 1, 0, 1, 0.607, 0.254] predict: ', model.predict(new_test))\n"
      ]
    }
  ]
}